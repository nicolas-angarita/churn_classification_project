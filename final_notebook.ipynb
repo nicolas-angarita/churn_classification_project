{
 "cells": [
  {
   "cell_type": "markdown",
   "id": "882bcd26",
   "metadata": {},
   "source": [
    "# *Did they Churn or Not?*"
   ]
  },
  {
   "cell_type": "markdown",
   "id": "f6f2299a",
   "metadata": {},
   "source": [
    "# Goals:\n",
    "\n",
    " - Identify key drivers of churn. \n",
    " - Predict which customers are at risk of churning\n",
    " ___"
   ]
  },
  {
   "cell_type": "markdown",
   "id": "be9d23ea",
   "metadata": {},
   "source": [
    "# Imports"
   ]
  },
  {
   "cell_type": "code",
   "execution_count": 1,
   "id": "9e8b1d2c",
   "metadata": {},
   "outputs": [],
   "source": [
    "import pandas as pd\n",
    "import numpy as np\n",
    "\n",
    "import acquire as a\n",
    "import prepare as p\n",
    "import explore as e\n",
    "\n",
    "import seaborn as sns\n",
    "import matplotlib.pyplot as plt \n",
    "\n",
    "\n",
    "from scipy import stats\n",
    "from sklearn.tree import DecisionTreeClassifier, plot_tree\n",
    "from sklearn.ensemble import RandomForestClassifier\n",
    "from sklearn.neighbors import KNeighborsClassifier\n",
    "from sklearn.linear_model import LogisticRegression\n",
    "from sklearn.metrics import classification_report, confusion_matrix\n",
    "\n",
    "import warnings\n",
    "warnings.filterwarnings(\"ignore\")\n"
   ]
  },
  {
   "cell_type": "markdown",
   "id": "774e813e",
   "metadata": {},
   "source": [
    "---------------------------------------------------------------------------------------------------------------"
   ]
  },
  {
   "cell_type": "markdown",
   "id": "d34ea602",
   "metadata": {},
   "source": [
    "# Acquire"
   ]
  },
  {
   "cell_type": "markdown",
   "id": "cc9d3e47",
   "metadata": {},
   "source": [
    " - Data acquired through Sequel Ace from the Codeup database.\n",
    " - Wrote a function in my acquire.py file that includes a sql query to extract the data\n",
    " - It contained 7,043 rows and 24 columns before cleaning\n",
    " - Each row represents a customer of Telco\n",
    " - Each column represents a feature of the dataset \n",
    " \n",
    " __________"
   ]
  },
  {
   "cell_type": "markdown",
   "id": "8e0984b7",
   "metadata": {},
   "source": [
    "# Prepare"
   ]
  },
  {
   "cell_type": "markdown",
   "id": "30a3dcc8",
   "metadata": {},
   "source": [
    " - Removed columns that were not useful\n",
    " - Checked for nulls in the data (there were none)\n",
    " - Checked that column data types were appropriate\n",
    " - Encoded variables that would promote useability for my models\n",
    " - Created dummy variables for categorical variables\n",
    " - Added dummy variables to dataset\n",
    " - Split data into train, validate and test (approx. 70/15/15), stratifying on 'churn'\n",
    " \n",
    " \n",
    " _____"
   ]
  },
  {
   "cell_type": "markdown",
   "id": "b59a258e",
   "metadata": {},
   "source": [
    "# Data Dictionary"
   ]
  },
  {
   "cell_type": "markdown",
   "id": "6ba10365",
   "metadata": {},
   "source": [
    "| Target Variable |     Definition     |\n",
    "| :---------------: | :------------------: |\n",
    "|      Churn      | yes(1) or no(0) customer left |\n",
    "\n",
    "| Feature  | Definition |\n",
    "| :-------------: | :-------------: |\n",
    "| customer_id  | unique id for each customer  |\n",
    "| payment_type_id | 1, 2, 3, 4 related to payment type |\n",
    "| internet_service_type_id | 1, 2, 3 related to internet service type |\n",
    "| contract_type_id | 1, 2, 3 related to contract type |\n",
    "| gender | male or female |\n",
    "| senior_citizen | yes(1) or no(0) senior citizen |\n",
    "| partner | yes or no has a partner | \n",
    "| dependents | yes or no has dependents |\n",
    "| tenure | how long the customer has been with company |\n",
    "| phone_service | yes or no has phone service |\n",
    "| multiple_lines | yes or no has multiple_lines |\n",
    "| online_security | yes or no has online security |\n",
    "| online_backup | yes or no has online backup |\n",
    "| device_protection | yes or no has device protection |\n",
    "| tech_support | yes or no has tech support |\n",
    "| streaming_tv | yes or no has streaming tv |\n",
    "| streaming_movies | yes or no has streaming movies |\n",
    "| paperless_billing | yes or no has paperless billing |\n",
    "| monthly_charges | monthly charge to customer |\n",
    "| total_charges | total charge to customer |\n",
    "| contract_type |  month to month, 1 year, 2 month |\n",
    "| internet_service_type | Fiber Optic, DSL, None | \n",
    "| payment_type | Electronic check, Mailed check, Bank transfer, Credit card |\n",
    "\n",
    "\n",
    "_____"
   ]
  },
  {
   "cell_type": "markdown",
   "id": "66286e5b",
   "metadata": {},
   "source": [
    "# A brief look at the data"
   ]
  },
  {
   "cell_type": "code",
   "execution_count": 2,
   "id": "4d7ef0fd",
   "metadata": {},
   "outputs": [],
   "source": [
    "# acquiring and cleaning the data\n",
    "df = a.get_telco_data()\n",
    "df = p.prep_telco(df)\n",
    "\n",
    "# splitting data into train, validate, and test\n",
    "col ='churn_encoded'\n",
    "train, validate, test = p.train_val_test(df, col)"
   ]
  },
  {
   "cell_type": "code",
   "execution_count": 3,
   "id": "8570233b",
   "metadata": {},
   "outputs": [
    {
     "data": {
      "text/html": [
       "<div>\n",
       "<style scoped>\n",
       "    .dataframe tbody tr th:only-of-type {\n",
       "        vertical-align: middle;\n",
       "    }\n",
       "\n",
       "    .dataframe tbody tr th {\n",
       "        vertical-align: top;\n",
       "    }\n",
       "\n",
       "    .dataframe thead th {\n",
       "        text-align: right;\n",
       "    }\n",
       "</style>\n",
       "<table border=\"1\" class=\"dataframe\">\n",
       "  <thead>\n",
       "    <tr style=\"text-align: right;\">\n",
       "      <th></th>\n",
       "      <th>customer_id</th>\n",
       "      <th>gender</th>\n",
       "      <th>senior_citizen</th>\n",
       "      <th>partner</th>\n",
       "      <th>dependents</th>\n",
       "      <th>tenure</th>\n",
       "      <th>phone_service</th>\n",
       "      <th>multiple_lines</th>\n",
       "      <th>online_security</th>\n",
       "      <th>online_backup</th>\n",
       "      <th>device_protection</th>\n",
       "      <th>tech_support</th>\n",
       "      <th>streaming_tv</th>\n",
       "      <th>streaming_movies</th>\n",
       "      <th>paperless_billing</th>\n",
       "      <th>monthly_charges</th>\n",
       "      <th>total_charges</th>\n",
       "      <th>churn</th>\n",
       "      <th>contract_type</th>\n",
       "      <th>internet_service_type</th>\n",
       "      <th>payment_type</th>\n",
       "      <th>gender_encoded</th>\n",
       "      <th>partner_encoded</th>\n",
       "      <th>dependents_encoded</th>\n",
       "      <th>phone_service_encoded</th>\n",
       "      <th>paperless_billing_encoded</th>\n",
       "      <th>churn_encoded</th>\n",
       "      <th>multiple_lines_No</th>\n",
       "      <th>multiple_lines_No phone service</th>\n",
       "      <th>multiple_lines_Yes</th>\n",
       "      <th>online_security_No</th>\n",
       "      <th>online_security_No internet service</th>\n",
       "      <th>online_security_Yes</th>\n",
       "      <th>online_backup_No</th>\n",
       "      <th>online_backup_No internet service</th>\n",
       "      <th>online_backup_Yes</th>\n",
       "      <th>device_protection_No</th>\n",
       "      <th>device_protection_No internet service</th>\n",
       "      <th>device_protection_Yes</th>\n",
       "      <th>tech_support_No</th>\n",
       "      <th>tech_support_No internet service</th>\n",
       "      <th>tech_support_Yes</th>\n",
       "      <th>streaming_tv_No</th>\n",
       "      <th>streaming_tv_No internet service</th>\n",
       "      <th>streaming_tv_Yes</th>\n",
       "      <th>streaming_movies_No</th>\n",
       "      <th>streaming_movies_No internet service</th>\n",
       "      <th>streaming_movies_Yes</th>\n",
       "      <th>contract_type_Month-to-month</th>\n",
       "      <th>contract_type_One year</th>\n",
       "      <th>contract_type_Two year</th>\n",
       "      <th>internet_service_type_DSL</th>\n",
       "      <th>internet_service_type_Fiber optic</th>\n",
       "      <th>internet_service_type_None</th>\n",
       "      <th>payment_type_Bank transfer (automatic)</th>\n",
       "      <th>payment_type_Credit card (automatic)</th>\n",
       "      <th>payment_type_Electronic check</th>\n",
       "      <th>payment_type_Mailed check</th>\n",
       "    </tr>\n",
       "  </thead>\n",
       "  <tbody>\n",
       "    <tr>\n",
       "      <th>5609</th>\n",
       "      <td>7901-HXJVA</td>\n",
       "      <td>Male</td>\n",
       "      <td>0</td>\n",
       "      <td>No</td>\n",
       "      <td>No</td>\n",
       "      <td>14</td>\n",
       "      <td>Yes</td>\n",
       "      <td>No</td>\n",
       "      <td>No</td>\n",
       "      <td>No</td>\n",
       "      <td>Yes</td>\n",
       "      <td>No</td>\n",
       "      <td>No</td>\n",
       "      <td>No</td>\n",
       "      <td>No</td>\n",
       "      <td>76.45</td>\n",
       "      <td>1117.55</td>\n",
       "      <td>No</td>\n",
       "      <td>Month-to-month</td>\n",
       "      <td>Fiber optic</td>\n",
       "      <td>Electronic check</td>\n",
       "      <td>0</td>\n",
       "      <td>0</td>\n",
       "      <td>0</td>\n",
       "      <td>1</td>\n",
       "      <td>0</td>\n",
       "      <td>0</td>\n",
       "      <td>1</td>\n",
       "      <td>0</td>\n",
       "      <td>0</td>\n",
       "      <td>1</td>\n",
       "      <td>0</td>\n",
       "      <td>0</td>\n",
       "      <td>1</td>\n",
       "      <td>0</td>\n",
       "      <td>0</td>\n",
       "      <td>0</td>\n",
       "      <td>0</td>\n",
       "      <td>1</td>\n",
       "      <td>1</td>\n",
       "      <td>0</td>\n",
       "      <td>0</td>\n",
       "      <td>1</td>\n",
       "      <td>0</td>\n",
       "      <td>0</td>\n",
       "      <td>1</td>\n",
       "      <td>0</td>\n",
       "      <td>0</td>\n",
       "      <td>1</td>\n",
       "      <td>0</td>\n",
       "      <td>0</td>\n",
       "      <td>0</td>\n",
       "      <td>1</td>\n",
       "      <td>0</td>\n",
       "      <td>0</td>\n",
       "      <td>0</td>\n",
       "      <td>1</td>\n",
       "      <td>0</td>\n",
       "    </tr>\n",
       "    <tr>\n",
       "      <th>2209</th>\n",
       "      <td>3164-AALRN</td>\n",
       "      <td>Male</td>\n",
       "      <td>0</td>\n",
       "      <td>No</td>\n",
       "      <td>No</td>\n",
       "      <td>5</td>\n",
       "      <td>Yes</td>\n",
       "      <td>No</td>\n",
       "      <td>No</td>\n",
       "      <td>No</td>\n",
       "      <td>Yes</td>\n",
       "      <td>No</td>\n",
       "      <td>Yes</td>\n",
       "      <td>Yes</td>\n",
       "      <td>Yes</td>\n",
       "      <td>70.00</td>\n",
       "      <td>347.4</td>\n",
       "      <td>Yes</td>\n",
       "      <td>One year</td>\n",
       "      <td>DSL</td>\n",
       "      <td>Mailed check</td>\n",
       "      <td>0</td>\n",
       "      <td>0</td>\n",
       "      <td>0</td>\n",
       "      <td>1</td>\n",
       "      <td>1</td>\n",
       "      <td>1</td>\n",
       "      <td>1</td>\n",
       "      <td>0</td>\n",
       "      <td>0</td>\n",
       "      <td>1</td>\n",
       "      <td>0</td>\n",
       "      <td>0</td>\n",
       "      <td>1</td>\n",
       "      <td>0</td>\n",
       "      <td>0</td>\n",
       "      <td>0</td>\n",
       "      <td>0</td>\n",
       "      <td>1</td>\n",
       "      <td>1</td>\n",
       "      <td>0</td>\n",
       "      <td>0</td>\n",
       "      <td>0</td>\n",
       "      <td>0</td>\n",
       "      <td>1</td>\n",
       "      <td>0</td>\n",
       "      <td>0</td>\n",
       "      <td>1</td>\n",
       "      <td>0</td>\n",
       "      <td>1</td>\n",
       "      <td>0</td>\n",
       "      <td>1</td>\n",
       "      <td>0</td>\n",
       "      <td>0</td>\n",
       "      <td>0</td>\n",
       "      <td>0</td>\n",
       "      <td>0</td>\n",
       "      <td>1</td>\n",
       "    </tr>\n",
       "    <tr>\n",
       "      <th>6919</th>\n",
       "      <td>9821-POOTN</td>\n",
       "      <td>Male</td>\n",
       "      <td>0</td>\n",
       "      <td>Yes</td>\n",
       "      <td>No</td>\n",
       "      <td>35</td>\n",
       "      <td>Yes</td>\n",
       "      <td>Yes</td>\n",
       "      <td>No</td>\n",
       "      <td>No</td>\n",
       "      <td>No</td>\n",
       "      <td>No</td>\n",
       "      <td>No</td>\n",
       "      <td>No</td>\n",
       "      <td>Yes</td>\n",
       "      <td>75.20</td>\n",
       "      <td>2576.2</td>\n",
       "      <td>Yes</td>\n",
       "      <td>Month-to-month</td>\n",
       "      <td>Fiber optic</td>\n",
       "      <td>Electronic check</td>\n",
       "      <td>0</td>\n",
       "      <td>1</td>\n",
       "      <td>0</td>\n",
       "      <td>1</td>\n",
       "      <td>1</td>\n",
       "      <td>1</td>\n",
       "      <td>0</td>\n",
       "      <td>0</td>\n",
       "      <td>1</td>\n",
       "      <td>1</td>\n",
       "      <td>0</td>\n",
       "      <td>0</td>\n",
       "      <td>1</td>\n",
       "      <td>0</td>\n",
       "      <td>0</td>\n",
       "      <td>1</td>\n",
       "      <td>0</td>\n",
       "      <td>0</td>\n",
       "      <td>1</td>\n",
       "      <td>0</td>\n",
       "      <td>0</td>\n",
       "      <td>1</td>\n",
       "      <td>0</td>\n",
       "      <td>0</td>\n",
       "      <td>1</td>\n",
       "      <td>0</td>\n",
       "      <td>0</td>\n",
       "      <td>1</td>\n",
       "      <td>0</td>\n",
       "      <td>0</td>\n",
       "      <td>0</td>\n",
       "      <td>1</td>\n",
       "      <td>0</td>\n",
       "      <td>0</td>\n",
       "      <td>0</td>\n",
       "      <td>1</td>\n",
       "      <td>0</td>\n",
       "    </tr>\n",
       "    <tr>\n",
       "      <th>2284</th>\n",
       "      <td>3259-QMXUN</td>\n",
       "      <td>Male</td>\n",
       "      <td>0</td>\n",
       "      <td>Yes</td>\n",
       "      <td>No</td>\n",
       "      <td>58</td>\n",
       "      <td>Yes</td>\n",
       "      <td>Yes</td>\n",
       "      <td>Yes</td>\n",
       "      <td>Yes</td>\n",
       "      <td>Yes</td>\n",
       "      <td>No</td>\n",
       "      <td>Yes</td>\n",
       "      <td>Yes</td>\n",
       "      <td>Yes</td>\n",
       "      <td>86.10</td>\n",
       "      <td>4890.5</td>\n",
       "      <td>No</td>\n",
       "      <td>Two year</td>\n",
       "      <td>DSL</td>\n",
       "      <td>Electronic check</td>\n",
       "      <td>0</td>\n",
       "      <td>1</td>\n",
       "      <td>0</td>\n",
       "      <td>1</td>\n",
       "      <td>1</td>\n",
       "      <td>0</td>\n",
       "      <td>0</td>\n",
       "      <td>0</td>\n",
       "      <td>1</td>\n",
       "      <td>0</td>\n",
       "      <td>0</td>\n",
       "      <td>1</td>\n",
       "      <td>0</td>\n",
       "      <td>0</td>\n",
       "      <td>1</td>\n",
       "      <td>0</td>\n",
       "      <td>0</td>\n",
       "      <td>1</td>\n",
       "      <td>1</td>\n",
       "      <td>0</td>\n",
       "      <td>0</td>\n",
       "      <td>0</td>\n",
       "      <td>0</td>\n",
       "      <td>1</td>\n",
       "      <td>0</td>\n",
       "      <td>0</td>\n",
       "      <td>1</td>\n",
       "      <td>0</td>\n",
       "      <td>0</td>\n",
       "      <td>1</td>\n",
       "      <td>1</td>\n",
       "      <td>0</td>\n",
       "      <td>0</td>\n",
       "      <td>0</td>\n",
       "      <td>0</td>\n",
       "      <td>1</td>\n",
       "      <td>0</td>\n",
       "    </tr>\n",
       "    <tr>\n",
       "      <th>845</th>\n",
       "      <td>1226-UDFZR</td>\n",
       "      <td>Female</td>\n",
       "      <td>0</td>\n",
       "      <td>No</td>\n",
       "      <td>No</td>\n",
       "      <td>2</td>\n",
       "      <td>Yes</td>\n",
       "      <td>No</td>\n",
       "      <td>No</td>\n",
       "      <td>Yes</td>\n",
       "      <td>No</td>\n",
       "      <td>No</td>\n",
       "      <td>No</td>\n",
       "      <td>No</td>\n",
       "      <td>Yes</td>\n",
       "      <td>49.60</td>\n",
       "      <td>114.7</td>\n",
       "      <td>Yes</td>\n",
       "      <td>Month-to-month</td>\n",
       "      <td>DSL</td>\n",
       "      <td>Mailed check</td>\n",
       "      <td>1</td>\n",
       "      <td>0</td>\n",
       "      <td>0</td>\n",
       "      <td>1</td>\n",
       "      <td>1</td>\n",
       "      <td>1</td>\n",
       "      <td>1</td>\n",
       "      <td>0</td>\n",
       "      <td>0</td>\n",
       "      <td>1</td>\n",
       "      <td>0</td>\n",
       "      <td>0</td>\n",
       "      <td>0</td>\n",
       "      <td>0</td>\n",
       "      <td>1</td>\n",
       "      <td>1</td>\n",
       "      <td>0</td>\n",
       "      <td>0</td>\n",
       "      <td>1</td>\n",
       "      <td>0</td>\n",
       "      <td>0</td>\n",
       "      <td>1</td>\n",
       "      <td>0</td>\n",
       "      <td>0</td>\n",
       "      <td>1</td>\n",
       "      <td>0</td>\n",
       "      <td>0</td>\n",
       "      <td>1</td>\n",
       "      <td>0</td>\n",
       "      <td>0</td>\n",
       "      <td>1</td>\n",
       "      <td>0</td>\n",
       "      <td>0</td>\n",
       "      <td>0</td>\n",
       "      <td>0</td>\n",
       "      <td>0</td>\n",
       "      <td>1</td>\n",
       "    </tr>\n",
       "  </tbody>\n",
       "</table>\n",
       "</div>"
      ],
      "text/plain": [
       "     customer_id  gender  senior_citizen partner dependents  tenure  \\\n",
       "5609  7901-HXJVA    Male               0      No         No      14   \n",
       "2209  3164-AALRN    Male               0      No         No       5   \n",
       "6919  9821-POOTN    Male               0     Yes         No      35   \n",
       "2284  3259-QMXUN    Male               0     Yes         No      58   \n",
       "845   1226-UDFZR  Female               0      No         No       2   \n",
       "\n",
       "     phone_service multiple_lines online_security online_backup  \\\n",
       "5609           Yes             No              No            No   \n",
       "2209           Yes             No              No            No   \n",
       "6919           Yes            Yes              No            No   \n",
       "2284           Yes            Yes             Yes           Yes   \n",
       "845            Yes             No              No           Yes   \n",
       "\n",
       "     device_protection tech_support streaming_tv streaming_movies  \\\n",
       "5609               Yes           No           No               No   \n",
       "2209               Yes           No          Yes              Yes   \n",
       "6919                No           No           No               No   \n",
       "2284               Yes           No          Yes              Yes   \n",
       "845                 No           No           No               No   \n",
       "\n",
       "     paperless_billing  monthly_charges total_charges churn   contract_type  \\\n",
       "5609                No            76.45       1117.55    No  Month-to-month   \n",
       "2209               Yes            70.00         347.4   Yes        One year   \n",
       "6919               Yes            75.20        2576.2   Yes  Month-to-month   \n",
       "2284               Yes            86.10        4890.5    No        Two year   \n",
       "845                Yes            49.60         114.7   Yes  Month-to-month   \n",
       "\n",
       "     internet_service_type      payment_type  gender_encoded  partner_encoded  \\\n",
       "5609           Fiber optic  Electronic check               0                0   \n",
       "2209                   DSL      Mailed check               0                0   \n",
       "6919           Fiber optic  Electronic check               0                1   \n",
       "2284                   DSL  Electronic check               0                1   \n",
       "845                    DSL      Mailed check               1                0   \n",
       "\n",
       "      dependents_encoded  phone_service_encoded  paperless_billing_encoded  \\\n",
       "5609                   0                      1                          0   \n",
       "2209                   0                      1                          1   \n",
       "6919                   0                      1                          1   \n",
       "2284                   0                      1                          1   \n",
       "845                    0                      1                          1   \n",
       "\n",
       "      churn_encoded  multiple_lines_No  multiple_lines_No phone service  \\\n",
       "5609              0                  1                                0   \n",
       "2209              1                  1                                0   \n",
       "6919              1                  0                                0   \n",
       "2284              0                  0                                0   \n",
       "845               1                  1                                0   \n",
       "\n",
       "      multiple_lines_Yes  online_security_No  \\\n",
       "5609                   0                   1   \n",
       "2209                   0                   1   \n",
       "6919                   1                   1   \n",
       "2284                   1                   0   \n",
       "845                    0                   1   \n",
       "\n",
       "      online_security_No internet service  online_security_Yes  \\\n",
       "5609                                    0                    0   \n",
       "2209                                    0                    0   \n",
       "6919                                    0                    0   \n",
       "2284                                    0                    1   \n",
       "845                                     0                    0   \n",
       "\n",
       "      online_backup_No  online_backup_No internet service  online_backup_Yes  \\\n",
       "5609                 1                                  0                  0   \n",
       "2209                 1                                  0                  0   \n",
       "6919                 1                                  0                  0   \n",
       "2284                 0                                  0                  1   \n",
       "845                  0                                  0                  1   \n",
       "\n",
       "      device_protection_No  device_protection_No internet service  \\\n",
       "5609                     0                                      0   \n",
       "2209                     0                                      0   \n",
       "6919                     1                                      0   \n",
       "2284                     0                                      0   \n",
       "845                      1                                      0   \n",
       "\n",
       "      device_protection_Yes  tech_support_No  \\\n",
       "5609                      1                1   \n",
       "2209                      1                1   \n",
       "6919                      0                1   \n",
       "2284                      1                1   \n",
       "845                       0                1   \n",
       "\n",
       "      tech_support_No internet service  tech_support_Yes  streaming_tv_No  \\\n",
       "5609                                 0                 0                1   \n",
       "2209                                 0                 0                0   \n",
       "6919                                 0                 0                1   \n",
       "2284                                 0                 0                0   \n",
       "845                                  0                 0                1   \n",
       "\n",
       "      streaming_tv_No internet service  streaming_tv_Yes  streaming_movies_No  \\\n",
       "5609                                 0                 0                    1   \n",
       "2209                                 0                 1                    0   \n",
       "6919                                 0                 0                    1   \n",
       "2284                                 0                 1                    0   \n",
       "845                                  0                 0                    1   \n",
       "\n",
       "      streaming_movies_No internet service  streaming_movies_Yes  \\\n",
       "5609                                     0                     0   \n",
       "2209                                     0                     1   \n",
       "6919                                     0                     0   \n",
       "2284                                     0                     1   \n",
       "845                                      0                     0   \n",
       "\n",
       "      contract_type_Month-to-month  contract_type_One year  \\\n",
       "5609                             1                       0   \n",
       "2209                             0                       1   \n",
       "6919                             1                       0   \n",
       "2284                             0                       0   \n",
       "845                              1                       0   \n",
       "\n",
       "      contract_type_Two year  internet_service_type_DSL  \\\n",
       "5609                       0                          0   \n",
       "2209                       0                          1   \n",
       "6919                       0                          0   \n",
       "2284                       1                          1   \n",
       "845                        0                          1   \n",
       "\n",
       "      internet_service_type_Fiber optic  internet_service_type_None  \\\n",
       "5609                                  1                           0   \n",
       "2209                                  0                           0   \n",
       "6919                                  1                           0   \n",
       "2284                                  0                           0   \n",
       "845                                   0                           0   \n",
       "\n",
       "      payment_type_Bank transfer (automatic)  \\\n",
       "5609                                       0   \n",
       "2209                                       0   \n",
       "6919                                       0   \n",
       "2284                                       0   \n",
       "845                                        0   \n",
       "\n",
       "      payment_type_Credit card (automatic)  payment_type_Electronic check  \\\n",
       "5609                                     0                              1   \n",
       "2209                                     0                              0   \n",
       "6919                                     0                              1   \n",
       "2284                                     0                              1   \n",
       "845                                      0                              0   \n",
       "\n",
       "      payment_type_Mailed check  \n",
       "5609                          0  \n",
       "2209                          1  \n",
       "6919                          0  \n",
       "2284                          0  \n",
       "845                           1  "
      ]
     },
     "execution_count": 3,
     "metadata": {},
     "output_type": "execute_result"
    }
   ],
   "source": [
    "pd.options.display.max_columns = None\n",
    "train.head()"
   ]
  },
  {
   "cell_type": "markdown",
   "id": "a2f571c6",
   "metadata": {},
   "source": [
    "# A summary of the data"
   ]
  },
  {
   "cell_type": "code",
   "execution_count": 4,
   "id": "80700007",
   "metadata": {},
   "outputs": [
    {
     "name": "stdout",
     "output_type": "stream",
     "text": [
      "<class 'pandas.core.frame.DataFrame'>\n",
      "Int64Index: 4930 entries, 5609 to 5679\n",
      "Data columns (total 58 columns):\n",
      " #   Column                                  Non-Null Count  Dtype  \n",
      "---  ------                                  --------------  -----  \n",
      " 0   customer_id                             4930 non-null   object \n",
      " 1   gender                                  4930 non-null   object \n",
      " 2   senior_citizen                          4930 non-null   int64  \n",
      " 3   partner                                 4930 non-null   object \n",
      " 4   dependents                              4930 non-null   object \n",
      " 5   tenure                                  4930 non-null   int64  \n",
      " 6   phone_service                           4930 non-null   object \n",
      " 7   multiple_lines                          4930 non-null   object \n",
      " 8   online_security                         4930 non-null   object \n",
      " 9   online_backup                           4930 non-null   object \n",
      " 10  device_protection                       4930 non-null   object \n",
      " 11  tech_support                            4930 non-null   object \n",
      " 12  streaming_tv                            4930 non-null   object \n",
      " 13  streaming_movies                        4930 non-null   object \n",
      " 14  paperless_billing                       4930 non-null   object \n",
      " 15  monthly_charges                         4930 non-null   float64\n",
      " 16  total_charges                           4930 non-null   object \n",
      " 17  churn                                   4930 non-null   object \n",
      " 18  contract_type                           4930 non-null   object \n",
      " 19  internet_service_type                   4930 non-null   object \n",
      " 20  payment_type                            4930 non-null   object \n",
      " 21  gender_encoded                          4930 non-null   int64  \n",
      " 22  partner_encoded                         4930 non-null   int64  \n",
      " 23  dependents_encoded                      4930 non-null   int64  \n",
      " 24  phone_service_encoded                   4930 non-null   int64  \n",
      " 25  paperless_billing_encoded               4930 non-null   int64  \n",
      " 26  churn_encoded                           4930 non-null   int64  \n",
      " 27  multiple_lines_No                       4930 non-null   uint8  \n",
      " 28  multiple_lines_No phone service         4930 non-null   uint8  \n",
      " 29  multiple_lines_Yes                      4930 non-null   uint8  \n",
      " 30  online_security_No                      4930 non-null   uint8  \n",
      " 31  online_security_No internet service     4930 non-null   uint8  \n",
      " 32  online_security_Yes                     4930 non-null   uint8  \n",
      " 33  online_backup_No                        4930 non-null   uint8  \n",
      " 34  online_backup_No internet service       4930 non-null   uint8  \n",
      " 35  online_backup_Yes                       4930 non-null   uint8  \n",
      " 36  device_protection_No                    4930 non-null   uint8  \n",
      " 37  device_protection_No internet service   4930 non-null   uint8  \n",
      " 38  device_protection_Yes                   4930 non-null   uint8  \n",
      " 39  tech_support_No                         4930 non-null   uint8  \n",
      " 40  tech_support_No internet service        4930 non-null   uint8  \n",
      " 41  tech_support_Yes                        4930 non-null   uint8  \n",
      " 42  streaming_tv_No                         4930 non-null   uint8  \n",
      " 43  streaming_tv_No internet service        4930 non-null   uint8  \n",
      " 44  streaming_tv_Yes                        4930 non-null   uint8  \n",
      " 45  streaming_movies_No                     4930 non-null   uint8  \n",
      " 46  streaming_movies_No internet service    4930 non-null   uint8  \n",
      " 47  streaming_movies_Yes                    4930 non-null   uint8  \n",
      " 48  contract_type_Month-to-month            4930 non-null   uint8  \n",
      " 49  contract_type_One year                  4930 non-null   uint8  \n",
      " 50  contract_type_Two year                  4930 non-null   uint8  \n",
      " 51  internet_service_type_DSL               4930 non-null   uint8  \n",
      " 52  internet_service_type_Fiber optic       4930 non-null   uint8  \n",
      " 53  internet_service_type_None              4930 non-null   uint8  \n",
      " 54  payment_type_Bank transfer (automatic)  4930 non-null   uint8  \n",
      " 55  payment_type_Credit card (automatic)    4930 non-null   uint8  \n",
      " 56  payment_type_Electronic check           4930 non-null   uint8  \n",
      " 57  payment_type_Mailed check               4930 non-null   uint8  \n",
      "dtypes: float64(1), int64(8), object(18), uint8(31)\n",
      "memory usage: 1.2+ MB\n"
     ]
    }
   ],
   "source": [
    "train.info()"
   ]
  },
  {
   "cell_type": "markdown",
   "id": "4220ed16",
   "metadata": {},
   "source": [
    "# Explore"
   ]
  },
  {
   "cell_type": "code",
   "execution_count": 5,
   "id": "a37782d5",
   "metadata": {},
   "outputs": [
    {
     "data": {
      "text/plain": [
       "<AxesSubplot:xlabel='churn', ylabel='Count'>"
      ]
     },
     "execution_count": 5,
     "metadata": {},
     "output_type": "execute_result"
    },
    {
     "data": {
      "image/png": "[encoded data removed]",
      "text/plain": [
       "<Figure size 640x480 with 1 Axes>"
      ]
     },
     "metadata": {},
     "output_type": "display_data"
    }
   ],
   "source": [
    "# A basline of how many churned and how many didn't in train dataset\n",
    "sns.histplot(x = train['churn'], data = train)"
   ]
  },
  {
   "cell_type": "markdown",
   "id": "39e2f047",
   "metadata": {},
   "source": [
    "### *Do customers with spouses and children churn less than those who do not have any dependents?*"
   ]
  },
  {
   "cell_type": "code",
   "execution_count": 6,
   "id": "23c8513c",
   "metadata": {},
   "outputs": [
    {
     "data": {
      "image/png": "[encoded data removed]",
      "text/plain": [
       "<Figure size 1000x700 with 2 Axes>"
      ]
     },
     "metadata": {},
     "output_type": "display_data"
    }
   ],
   "source": [
    "e.countplot('churn', ['dependents', 'partner'], train)"
   ]
  },
  {
   "cell_type": "markdown",
   "id": "c46c4ca5",
   "metadata": {},
   "source": [
    " - After looking at this chart it seems like churn goes down if you do have dependents or a partner \n",
    "\n",
    "**Run a chi² test to evaluate dependency of partners and dependets to churning** <br>\n",
    "\n",
    "$H_0$: Churn is not dependent on whether a customer has a dependent or partner. <br>\n",
    "$H_a$: Churn is dependent on whether a customer has a dependent or partner.\n",
    "\n",
    " - Confidence interval of 95%\n",
    " - Alpha is .05\n"
   ]
  },
  {
   "cell_type": "markdown",
   "id": "1491b9a3",
   "metadata": {},
   "source": [
    "Partner:\n",
    "chi² = 108.452\n",
    "p = 2.14e-25\n",
    "\n",
    "Dependents:\n",
    "chi² = 127.521\n",
    "p = 1.43e-29"
   ]
  },
  {
   "cell_type": "markdown",
   "id": "13ccdcd9",
   "metadata": {},
   "source": [
    "**Both partner and dependents reject the null hypothesis, because the p-value is less than alpha.\n",
    "The meaning is a customer who has a partner or dependents does have a relationship with churning. Therefore, featuring these features in my model will likely have a positive impact on the model's accuracy.**\n",
    "____"
   ]
  },
  {
   "cell_type": "markdown",
   "id": "89c22e7f",
   "metadata": {},
   "source": [
    "### *Does the type of contract a customer have make it more likley to churn?*"
   ]
  },
  {
   "cell_type": "code",
   "execution_count": 21,
   "id": "0e6a7163",
   "metadata": {},
   "outputs": [
    {
     "data": {
      "image/png": "[encoded data removed]",
      "text/plain": [
       "<Figure size 1000x700 with 1 Axes>"
      ]
     },
     "metadata": {},
     "output_type": "display_data"
    }
   ],
   "source": [
    "e.countplot('churn', ['contract_type'], train)"
   ]
  },
  {
   "cell_type": "markdown",
   "id": "073b1bca",
   "metadata": {},
   "source": [
    "- It seems like the longer the contract a customer has the churn rate goes down.\n",
    "- A customer on a month to month type of contract has the highest churn rate than the other 2 contracts, after observing this chart \n",
    "\n",
    "**Run a chi² test to evaluate dependency of customer's contract types to churning** <br>\n",
    "\n",
    "$H_0$: Churn is not dependent on the customers contract type. <br>\n",
    "$H_a$: Churn is dependent on the customers contract type.\n",
    "\n",
    " - Confidence interval of 95%\n",
    " - Alpha is .05"
   ]
  },
  {
   "cell_type": "code",
   "execution_count": 22,
   "id": "73fdbdc0",
   "metadata": {},
   "outputs": [
    {
     "name": "stdout",
     "output_type": "stream",
     "text": [
      "Partner:\n",
      "chi² = 857.552\n",
      "p = 6.09e-187\n"
     ]
    }
   ],
   "source": [
    "print('Partner:')\n",
    "e.chi_test('contract_type', train)"
   ]
  },
  {
   "cell_type": "markdown",
   "id": "c81e2ea3",
   "metadata": {},
   "source": [
    "**According to our statistical test churn and contract type are related. Featuring these features in my model will likely have a positive impact on the model's accuracy.** \n",
    "\n",
    "--------"
   ]
  },
  {
   "cell_type": "markdown",
   "id": "da5d1090",
   "metadata": {},
   "source": [
    "### *Are customers with different internet service more or less likely to churn?*"
   ]
  },
  {
   "cell_type": "code",
   "execution_count": 24,
   "id": "7a296e63",
   "metadata": {},
   "outputs": [
    {
     "data": {
      "image/png": "[encoded data removed]",
      "text/plain": [
       "<Figure size 1000x700 with 1 Axes>"
      ]
     },
     "metadata": {},
     "output_type": "display_data"
    }
   ],
   "source": [
    "e.countplot('churn', ['internet_service_type'], train)"
   ]
  },
  {
   "cell_type": "markdown",
   "id": "a80e0559",
   "metadata": {},
   "source": [
    "- Fiber optic seems to have the highest churn rate out of the 3 different services\n",
    "\n",
    "\n",
    "**Run a chi² test to evaluate dependency of internet service to churning** <br>\n",
    "\n",
    "$H_0$: Churn is not dependent on the type of internet service. <br>\n",
    "$H_a$: Churn is dependent on the type of internet service.\n",
    "\n",
    " - Confidence interval of 95%\n",
    " - Alpha is .05\n"
   ]
  },
  {
   "cell_type": "code",
   "execution_count": 25,
   "id": "65fb0d8b",
   "metadata": {},
   "outputs": [
    {
     "name": "stdout",
     "output_type": "stream",
     "text": [
      "chi² = 490.040\n",
      "p = 3.88e-107\n"
     ]
    }
   ],
   "source": [
    "e.chi_test('internet_service_type',train)"
   ]
  },
  {
   "cell_type": "markdown",
   "id": "eddeb99a",
   "metadata": {},
   "source": [
    "**We reject the null hypthesis, meaning that churn is dependent on the type of internet service type.**\n",
    "\n",
    "_____"
   ]
  },
  {
   "cell_type": "markdown",
   "id": "b101a9af",
   "metadata": {},
   "source": [
    "### *Are Senior Citizens more or less likely to churn than a non Senior Citizen?*\n"
   ]
  },
  {
   "cell_type": "code",
   "execution_count": 27,
   "id": "2c079c5e",
   "metadata": {},
   "outputs": [
    {
     "data": {
      "image/png": "[encoded data removed]",
      "text/plain": [
       "<Figure size 1000x700 with 1 Axes>"
      ]
     },
     "metadata": {},
     "output_type": "display_data"
    }
   ],
   "source": [
    "e.countplot('churn', ['senior_citizen'], train)"
   ]
  },
  {
   "cell_type": "markdown",
   "id": "d9f9f087",
   "metadata": {},
   "source": [
    "- Non senior citizens are churning more than those who are senior citizens.\n",
    "\n",
    "**Run a chi² test to evaluate dependency of Senior Citizens to Non-Senior Citizens churning** <br>\n",
    "\n",
    "$H_0$: Churn is not dependent on whether a customer is a senior citizen. <br>\n",
    "$H_a$: Churn is dependent on whether a customer is a senior citizen.\n",
    "\n",
    " - Confidence interval of 95%\n",
    " - Alpha is .05\n"
   ]
  },
  {
   "cell_type": "code",
   "execution_count": 26,
   "id": "58ea7838",
   "metadata": {},
   "outputs": [
    {
     "name": "stdout",
     "output_type": "stream",
     "text": [
      "chi² = 111.212\n",
      "p = 5.32e-26\n"
     ]
    }
   ],
   "source": [
    "e.chi_test('senior_citizen', train)"
   ]
  },
  {
   "cell_type": "markdown",
   "id": "d4686383",
   "metadata": {},
   "source": [
    "**The p-value is less than the Alpha. Therefore, we have support that churning and senior citizen status are related.**\n",
    "\n",
    "----"
   ]
  },
  {
   "cell_type": "markdown",
   "id": "497e2367",
   "metadata": {},
   "source": [
    "# Exploration Summary"
   ]
  },
  {
   "cell_type": "markdown",
   "id": "16707789",
   "metadata": {},
   "source": [
    " **- Dependents, partner, contract type, internet service type, and senior citizen status were all found to be drivers of churning**\n",
    "\n",
    " **- Contract type and internet service type seem to have the strongest influence.**\n",
    " \n",
    " ------"
   ]
  },
  {
   "cell_type": "markdown",
   "id": "f5641a4f",
   "metadata": {},
   "source": [
    "# Modeling "
   ]
  },
  {
   "cell_type": "markdown",
   "id": "15f29158",
   "metadata": {},
   "source": [
    "- Accuracy will be my evaluation metric\n",
    "- Baseline for customers not churning is 73.47%\n",
    "- Ran 3 models including a decision tree, random forest, and a K-nearest neighbor \n",
    "- I evaluatied the models on train and validate data \n",
    "- The best performing model then was evaluated on test data"
   ]
  },
  {
   "cell_type": "markdown",
   "id": "da30dd20",
   "metadata": {},
   "source": [
    "### Decision Tree"
   ]
  },
  {
   "cell_type": "markdown",
   "id": "88e33993",
   "metadata": {},
   "source": [
    "The Decision Tree train accuracy is 85.72%<br>\n",
    "The Decision Tree validate accuracy is 85.59%"
   ]
  },
  {
   "cell_type": "markdown",
   "id": "41118de2",
   "metadata": {},
   "source": [
    "### Random Forest "
   ]
  },
  {
   "cell_type": "markdown",
   "id": "0601ce4a",
   "metadata": {},
   "source": [
    "The Random Forest train accuracy is 84.64%<br>\n",
    "The Random Forest validate accuracy is 84.58%"
   ]
  },
  {
   "cell_type": "markdown",
   "id": "4120cc3a",
   "metadata": {},
   "source": [
    "### K-Nearest Neighbor"
   ]
  },
  {
   "cell_type": "markdown",
   "id": "f8fa772d",
   "metadata": {},
   "source": [
    "The K-Nearest Neighbor train accuracy is 82.10% <br>\n",
    "The K-Nearest Neighbor validate accuracy is 82.10%"
   ]
  },
  {
   "cell_type": "markdown",
   "id": "6eaf67b4",
   "metadata": {},
   "source": [
    "### Modeling Summary"
   ]
  },
  {
   "cell_type": "markdown",
   "id": "fab6eb2c",
   "metadata": {},
   "source": [
    "**The best performing model is the decision tree, so we tested the model with the test data**\n",
    "\n",
    "The Decision Tree test accuracy is 86%\n",
    "\n",
    "------"
   ]
  },
  {
   "cell_type": "markdown",
   "id": "32d4104c",
   "metadata": {},
   "source": [
    "# Conclusions"
   ]
  },
  {
   "cell_type": "markdown",
   "id": "52ef1359",
   "metadata": {},
   "source": [
    " - Customers who have dependents or partners churned at a much lower rate those those who did not\n",
    "  \n",
    " - The longer the contract a customer had the less likely they were to churn. With month-to-month having the most churned customers.\n",
    " \n",
    " - Customers who have fiber optic internet are more likely to churn compared to other internet customers\n",
    " \n",
    " - Non Senior citizens are more likely to churn than senior citizens.\n",
    " \n",
    "**Best Model's performance:<br>\n",
    "Accuracy of 85.72% on in-sample (train), 85.59% on out-of-sample data (validate) and an accuracy of 86% on the test data.**\n",
    "\n",
    "## Recommendations\n",
    "- We would want to target those who have dependents or partners to be within our target market. Seeing that customers that have dependents or a partner churn at a lower rate.\n",
    "\n",
    "- I would recommend promoting longer contracts for our customers.\n",
    "\n",
    "## Next Steps\n",
    "\n",
    "- Figure out why month to month and fiber optic customers are churning at such a high rate.\n",
    "- Consider adding different hyperparameters to models. \n"
   ]
  }
 ],
 "metadata": {
  "kernelspec": {
   "display_name": "Python 3 (ipykernel)",
   "language": "python",
   "name": "python3"
  },
  "language_info": {
   "codemirror_mode": {
    "name": "ipython",
    "version": 3
   },
   "file_extension": ".py",
   "mimetype": "text/x-python",
   "name": "python",
   "nbconvert_exporter": "python",
   "pygments_lexer": "ipython3",
   "version": "3.9.13"
  }
 },
 "nbformat": 4,
 "nbformat_minor": 5
}
